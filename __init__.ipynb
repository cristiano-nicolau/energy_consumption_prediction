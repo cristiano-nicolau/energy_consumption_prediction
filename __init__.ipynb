{
 "cells": [
  {
   "cell_type": "code",
   "execution_count": 1,
   "metadata": {},
   "outputs": [],
   "source": [
    "import opendatasets as od\n",
    "import pandas as pd\n",
    "import numpy as np\n",
    "\n",
    "# for cleaning memory usage\n",
    "import gc\n",
    "\n",
    "# for data visualization\n",
    "import plotly.express as px\n",
    "import matplotlib\n",
    "import matplotlib.pyplot as plt\n",
    "import seaborn as sns\n"
   ]
  },
  {
   "cell_type": "code",
   "execution_count": 2,
   "metadata": {},
   "outputs": [
    {
     "name": "stdout",
     "output_type": "stream",
     "text": [
      "Skipping, found downloaded files in \"./ashrae-energy-prediction\" (use force=True to force download)\n"
     ]
    }
   ],
   "source": [
    "dataset_url = 'https://www.kaggle.com/competitions/ashrae-energy-prediction/data'\n",
    "od.download(dataset_url)"
   ]
  },
  {
   "cell_type": "code",
   "execution_count": 3,
   "metadata": {},
   "outputs": [
    {
     "name": "stdout",
     "output_type": "stream",
     "text": [
      "(20216100, 4) (139773, 9) (1449, 6) (41697600, 4) (277243, 9)\n"
     ]
    },
    {
     "data": {
      "application/vnd.microsoft.datawrangler.viewer.v0+json": {
       "columns": [
        {
         "name": "index",
         "rawType": "int64",
         "type": "integer"
        },
        {
         "name": "building_id",
         "rawType": "int64",
         "type": "integer"
        },
        {
         "name": "meter",
         "rawType": "int64",
         "type": "integer"
        },
        {
         "name": "timestamp",
         "rawType": "object",
         "type": "string"
        },
        {
         "name": "meter_reading",
         "rawType": "float64",
         "type": "float"
        }
       ],
       "conversionMethod": "pd.DataFrame",
       "ref": "bab145d7-c6cd-4c1e-aeff-733ff2632923",
       "rows": [
        [
         "0",
         "0",
         "0",
         "2016-01-01 00:00:00",
         "0.0"
        ],
        [
         "1",
         "1",
         "0",
         "2016-01-01 00:00:00",
         "0.0"
        ],
        [
         "2",
         "2",
         "0",
         "2016-01-01 00:00:00",
         "0.0"
        ],
        [
         "3",
         "3",
         "0",
         "2016-01-01 00:00:00",
         "0.0"
        ],
        [
         "4",
         "4",
         "0",
         "2016-01-01 00:00:00",
         "0.0"
        ]
       ],
       "shape": {
        "columns": 4,
        "rows": 5
       }
      },
      "text/html": [
       "<div>\n",
       "<style scoped>\n",
       "    .dataframe tbody tr th:only-of-type {\n",
       "        vertical-align: middle;\n",
       "    }\n",
       "\n",
       "    .dataframe tbody tr th {\n",
       "        vertical-align: top;\n",
       "    }\n",
       "\n",
       "    .dataframe thead th {\n",
       "        text-align: right;\n",
       "    }\n",
       "</style>\n",
       "<table border=\"1\" class=\"dataframe\">\n",
       "  <thead>\n",
       "    <tr style=\"text-align: right;\">\n",
       "      <th></th>\n",
       "      <th>building_id</th>\n",
       "      <th>meter</th>\n",
       "      <th>timestamp</th>\n",
       "      <th>meter_reading</th>\n",
       "    </tr>\n",
       "  </thead>\n",
       "  <tbody>\n",
       "    <tr>\n",
       "      <th>0</th>\n",
       "      <td>0</td>\n",
       "      <td>0</td>\n",
       "      <td>2016-01-01 00:00:00</td>\n",
       "      <td>0.0</td>\n",
       "    </tr>\n",
       "    <tr>\n",
       "      <th>1</th>\n",
       "      <td>1</td>\n",
       "      <td>0</td>\n",
       "      <td>2016-01-01 00:00:00</td>\n",
       "      <td>0.0</td>\n",
       "    </tr>\n",
       "    <tr>\n",
       "      <th>2</th>\n",
       "      <td>2</td>\n",
       "      <td>0</td>\n",
       "      <td>2016-01-01 00:00:00</td>\n",
       "      <td>0.0</td>\n",
       "    </tr>\n",
       "    <tr>\n",
       "      <th>3</th>\n",
       "      <td>3</td>\n",
       "      <td>0</td>\n",
       "      <td>2016-01-01 00:00:00</td>\n",
       "      <td>0.0</td>\n",
       "    </tr>\n",
       "    <tr>\n",
       "      <th>4</th>\n",
       "      <td>4</td>\n",
       "      <td>0</td>\n",
       "      <td>2016-01-01 00:00:00</td>\n",
       "      <td>0.0</td>\n",
       "    </tr>\n",
       "  </tbody>\n",
       "</table>\n",
       "</div>"
      ],
      "text/plain": [
       "   building_id  meter            timestamp  meter_reading\n",
       "0            0      0  2016-01-01 00:00:00            0.0\n",
       "1            1      0  2016-01-01 00:00:00            0.0\n",
       "2            2      0  2016-01-01 00:00:00            0.0\n",
       "3            3      0  2016-01-01 00:00:00            0.0\n",
       "4            4      0  2016-01-01 00:00:00            0.0"
      ]
     },
     "execution_count": 3,
     "metadata": {},
     "output_type": "execute_result"
    }
   ],
   "source": [
    "# Load the data\n",
    "energy_data = pd.read_csv('ashrae-energy-prediction/train.csv')\n",
    "weather_train = pd.read_csv('ashrae-energy-prediction/weather_train.csv')\n",
    "building_metadata = pd.read_csv('ashrae-energy-prediction/building_metadata.csv')\n",
    "test = pd.read_csv('ashrae-energy-prediction/test.csv')\n",
    "weather_test = pd.read_csv('ashrae-energy-prediction/weather_test.csv')\n",
    "print(energy_data.shape, weather_train.shape, building_metadata.shape, test.shape, weather_test.shape)\n",
    "\n",
    "\n",
    "# Display the first few rows of the dataset\n",
    "energy_data.head()\n"
   ]
  },
  {
   "cell_type": "markdown",
   "metadata": {},
   "source": [
    "**Observations**\n",
    "- This is a supervised learning regression problem\n",
    "- Training data is 2.5 GB in size\n",
    "- Training data has 20 million rows\n",
    "- Test set is much larger and has around 40 million rows.\n",
    "- Training set has 4 columns \n",
    "  - `building_id`\n",
    "  -  `meter`\n",
    "  -  `timestamp`\n",
    "  -  `meter_reading`\n",
    "- Test set has all the columns except the target column `meter_reading`. \n",
    "- The submission file should contain `row_id` and `meter_reading` for each test sample.\n",
    "\n",
    "On the test csv file, we have a column with the name \"meter_reading\" which is the target variable. But the test csv file we have is not the same as the train csv file. The test csv file has only the building_id, meter, timestamp and row_id columns. We need to predict the meter_reading for each row_id."
   ]
  },
  {
   "cell_type": "code",
   "execution_count": 4,
   "metadata": {},
   "outputs": [
    {
     "data": {
      "application/vnd.microsoft.datawrangler.viewer.v0+json": {
       "columns": [
        {
         "name": "index",
         "rawType": "int64",
         "type": "integer"
        },
        {
         "name": "row_id",
         "rawType": "int64",
         "type": "integer"
        },
        {
         "name": "building_id",
         "rawType": "int64",
         "type": "integer"
        },
        {
         "name": "meter",
         "rawType": "int64",
         "type": "integer"
        },
        {
         "name": "timestamp",
         "rawType": "object",
         "type": "string"
        }
       ],
       "conversionMethod": "pd.DataFrame",
       "ref": "25602c60-39f5-46fe-80c0-efd403061169",
       "rows": [
        [
         "0",
         "0",
         "0",
         "0",
         "2017-01-01 00:00:00"
        ],
        [
         "1",
         "1",
         "1",
         "0",
         "2017-01-01 00:00:00"
        ],
        [
         "2",
         "2",
         "2",
         "0",
         "2017-01-01 00:00:00"
        ],
        [
         "3",
         "3",
         "3",
         "0",
         "2017-01-01 00:00:00"
        ],
        [
         "4",
         "4",
         "4",
         "0",
         "2017-01-01 00:00:00"
        ]
       ],
       "shape": {
        "columns": 4,
        "rows": 5
       }
      },
      "text/html": [
       "<div>\n",
       "<style scoped>\n",
       "    .dataframe tbody tr th:only-of-type {\n",
       "        vertical-align: middle;\n",
       "    }\n",
       "\n",
       "    .dataframe tbody tr th {\n",
       "        vertical-align: top;\n",
       "    }\n",
       "\n",
       "    .dataframe thead th {\n",
       "        text-align: right;\n",
       "    }\n",
       "</style>\n",
       "<table border=\"1\" class=\"dataframe\">\n",
       "  <thead>\n",
       "    <tr style=\"text-align: right;\">\n",
       "      <th></th>\n",
       "      <th>row_id</th>\n",
       "      <th>building_id</th>\n",
       "      <th>meter</th>\n",
       "      <th>timestamp</th>\n",
       "    </tr>\n",
       "  </thead>\n",
       "  <tbody>\n",
       "    <tr>\n",
       "      <th>0</th>\n",
       "      <td>0</td>\n",
       "      <td>0</td>\n",
       "      <td>0</td>\n",
       "      <td>2017-01-01 00:00:00</td>\n",
       "    </tr>\n",
       "    <tr>\n",
       "      <th>1</th>\n",
       "      <td>1</td>\n",
       "      <td>1</td>\n",
       "      <td>0</td>\n",
       "      <td>2017-01-01 00:00:00</td>\n",
       "    </tr>\n",
       "    <tr>\n",
       "      <th>2</th>\n",
       "      <td>2</td>\n",
       "      <td>2</td>\n",
       "      <td>0</td>\n",
       "      <td>2017-01-01 00:00:00</td>\n",
       "    </tr>\n",
       "    <tr>\n",
       "      <th>3</th>\n",
       "      <td>3</td>\n",
       "      <td>3</td>\n",
       "      <td>0</td>\n",
       "      <td>2017-01-01 00:00:00</td>\n",
       "    </tr>\n",
       "    <tr>\n",
       "      <th>4</th>\n",
       "      <td>4</td>\n",
       "      <td>4</td>\n",
       "      <td>0</td>\n",
       "      <td>2017-01-01 00:00:00</td>\n",
       "    </tr>\n",
       "  </tbody>\n",
       "</table>\n",
       "</div>"
      ],
      "text/plain": [
       "   row_id  building_id  meter            timestamp\n",
       "0       0            0      0  2017-01-01 00:00:00\n",
       "1       1            1      0  2017-01-01 00:00:00\n",
       "2       2            2      0  2017-01-01 00:00:00\n",
       "3       3            3      0  2017-01-01 00:00:00\n",
       "4       4            4      0  2017-01-01 00:00:00"
      ]
     },
     "execution_count": 4,
     "metadata": {},
     "output_type": "execute_result"
    }
   ],
   "source": [
    "test.head()"
   ]
  },
  {
   "cell_type": "code",
   "execution_count": 5,
   "metadata": {},
   "outputs": [
    {
     "data": {
      "text/plain": [
       "meter\n",
       "0    12060910\n",
       "1     4182440\n",
       "2     2708713\n",
       "3     1264037\n",
       "Name: count, dtype: int64"
      ]
     },
     "execution_count": 5,
     "metadata": {},
     "output_type": "execute_result"
    }
   ],
   "source": [
    "# types of Meter\n",
    "energy_data['meter'].value_counts()\n"
   ]
  },
  {
   "cell_type": "markdown",
   "metadata": {},
   "source": [
    "**Observations**\n",
    "\n",
    "The `train.csv` file contains the training dataset, which is the largest among the provided datasets. It includes the following columns:\n",
    "\n",
    "- `building_id`: Foreign key linking to the `building_metadata.csv` file.\n",
    "- `meter`: Categorical variable representing the type of energy meter:\n",
    "  - `0`: Electricity\n",
    "  - `1`: Chilled Water\n",
    "  - `2`: Steam\n",
    "  - `3`: Hot Water\n",
    "- `timestamp`: Time of the recorded meter reading.\n",
    "- `meter_reading`: Target variable representing energy consumption in kWh.\n",
    "\n",
    "Our goal is to predict the `meter_reading` for electricity consumption (`meter = 0`). To achieve this, we will:\n",
    "\n",
    "1. Filter the training (`energy_data`) and testing (`test`) datasets to include only rows where `meter = 0`.\n",
    "2. Use the `building_id` column to merge the `energy_data` and `test` datasets with the `building_metadata.csv` file.\n",
    "3. Incorporate weather data from `weather_train.csv` and `weather_test.csv` using the `site_id` and `timestamp` columns.\n",
    "\n",
    "This approach will allow us to focus on electricity consumption while leveraging additional metadata and weather information to improve prediction accuracy.\n"
   ]
  },
  {
   "cell_type": "code",
   "execution_count": 6,
   "metadata": {},
   "outputs": [
    {
     "name": "stdout",
     "output_type": "stream",
     "text": [
      "(12060910, 3) (24755760, 3)\n"
     ]
    },
    {
     "data": {
      "application/vnd.microsoft.datawrangler.viewer.v0+json": {
       "columns": [
        {
         "name": "index",
         "rawType": "int64",
         "type": "integer"
        },
        {
         "name": "building_id",
         "rawType": "int64",
         "type": "integer"
        },
        {
         "name": "timestamp",
         "rawType": "object",
         "type": "string"
        },
        {
         "name": "meter_reading",
         "rawType": "float64",
         "type": "float"
        }
       ],
       "conversionMethod": "pd.DataFrame",
       "ref": "8860d059-542e-43b1-9465-3959a712c895",
       "rows": [
        [
         "0",
         "0",
         "2016-01-01 00:00:00",
         "0.0"
        ],
        [
         "1",
         "1",
         "2016-01-01 00:00:00",
         "0.0"
        ],
        [
         "2",
         "2",
         "2016-01-01 00:00:00",
         "0.0"
        ],
        [
         "3",
         "3",
         "2016-01-01 00:00:00",
         "0.0"
        ],
        [
         "4",
         "4",
         "2016-01-01 00:00:00",
         "0.0"
        ]
       ],
       "shape": {
        "columns": 3,
        "rows": 5
       }
      },
      "text/html": [
       "<div>\n",
       "<style scoped>\n",
       "    .dataframe tbody tr th:only-of-type {\n",
       "        vertical-align: middle;\n",
       "    }\n",
       "\n",
       "    .dataframe tbody tr th {\n",
       "        vertical-align: top;\n",
       "    }\n",
       "\n",
       "    .dataframe thead th {\n",
       "        text-align: right;\n",
       "    }\n",
       "</style>\n",
       "<table border=\"1\" class=\"dataframe\">\n",
       "  <thead>\n",
       "    <tr style=\"text-align: right;\">\n",
       "      <th></th>\n",
       "      <th>building_id</th>\n",
       "      <th>timestamp</th>\n",
       "      <th>meter_reading</th>\n",
       "    </tr>\n",
       "  </thead>\n",
       "  <tbody>\n",
       "    <tr>\n",
       "      <th>0</th>\n",
       "      <td>0</td>\n",
       "      <td>2016-01-01 00:00:00</td>\n",
       "      <td>0.0</td>\n",
       "    </tr>\n",
       "    <tr>\n",
       "      <th>1</th>\n",
       "      <td>1</td>\n",
       "      <td>2016-01-01 00:00:00</td>\n",
       "      <td>0.0</td>\n",
       "    </tr>\n",
       "    <tr>\n",
       "      <th>2</th>\n",
       "      <td>2</td>\n",
       "      <td>2016-01-01 00:00:00</td>\n",
       "      <td>0.0</td>\n",
       "    </tr>\n",
       "    <tr>\n",
       "      <th>3</th>\n",
       "      <td>3</td>\n",
       "      <td>2016-01-01 00:00:00</td>\n",
       "      <td>0.0</td>\n",
       "    </tr>\n",
       "    <tr>\n",
       "      <th>4</th>\n",
       "      <td>4</td>\n",
       "      <td>2016-01-01 00:00:00</td>\n",
       "      <td>0.0</td>\n",
       "    </tr>\n",
       "  </tbody>\n",
       "</table>\n",
       "</div>"
      ],
      "text/plain": [
       "   building_id            timestamp  meter_reading\n",
       "0            0  2016-01-01 00:00:00            0.0\n",
       "1            1  2016-01-01 00:00:00            0.0\n",
       "2            2  2016-01-01 00:00:00            0.0\n",
       "3            3  2016-01-01 00:00:00            0.0\n",
       "4            4  2016-01-01 00:00:00            0.0"
      ]
     },
     "execution_count": 6,
     "metadata": {},
     "output_type": "execute_result"
    }
   ],
   "source": [
    "# quero apenas os dados de eletricidade\n",
    "energy_data = energy_data[energy_data['meter'] == 0]\n",
    "energy_data = energy_data.drop(columns=['meter'])\n",
    "\n",
    "test = test[test['meter'] == 0]\n",
    "test = test.drop(columns=['meter'])\n",
    "\n",
    "print(energy_data.shape, test.shape)\n",
    "\n",
    "energy_data.head()"
   ]
  },
  {
   "cell_type": "markdown",
   "metadata": {},
   "source": [
    "With the above approach, we reduced the training dataset size from **20,216,100** to **12,060,910**, representing a significant reduction. Similarly, the test dataset was reduced from **41,697,600** to **24,755,760**.\n"
   ]
  },
  {
   "cell_type": "code",
   "execution_count": 7,
   "metadata": {},
   "outputs": [
    {
     "data": {
      "application/vnd.microsoft.datawrangler.viewer.v0+json": {
       "columns": [
        {
         "name": "index",
         "rawType": "int64",
         "type": "integer"
        },
        {
         "name": "site_id",
         "rawType": "int64",
         "type": "integer"
        },
        {
         "name": "timestamp",
         "rawType": "object",
         "type": "string"
        },
        {
         "name": "air_temperature",
         "rawType": "float64",
         "type": "float"
        },
        {
         "name": "cloud_coverage",
         "rawType": "float64",
         "type": "float"
        },
        {
         "name": "dew_temperature",
         "rawType": "float64",
         "type": "float"
        },
        {
         "name": "precip_depth_1_hr",
         "rawType": "float64",
         "type": "float"
        },
        {
         "name": "sea_level_pressure",
         "rawType": "float64",
         "type": "float"
        },
        {
         "name": "wind_direction",
         "rawType": "float64",
         "type": "float"
        },
        {
         "name": "wind_speed",
         "rawType": "float64",
         "type": "float"
        }
       ],
       "conversionMethod": "pd.DataFrame",
       "ref": "893fc920-64ec-4713-9ae5-39b449123141",
       "rows": [
        [
         "0",
         "0",
         "2016-01-01 00:00:00",
         "25.0",
         "6.0",
         "20.0",
         null,
         "1019.7",
         "0.0",
         "0.0"
        ],
        [
         "1",
         "0",
         "2016-01-01 01:00:00",
         "24.4",
         null,
         "21.1",
         "-1.0",
         "1020.2",
         "70.0",
         "1.5"
        ],
        [
         "2",
         "0",
         "2016-01-01 02:00:00",
         "22.8",
         "2.0",
         "21.1",
         "0.0",
         "1020.2",
         "0.0",
         "0.0"
        ],
        [
         "3",
         "0",
         "2016-01-01 03:00:00",
         "21.1",
         "2.0",
         "20.6",
         "0.0",
         "1020.1",
         "0.0",
         "0.0"
        ],
        [
         "4",
         "0",
         "2016-01-01 04:00:00",
         "20.0",
         "2.0",
         "20.0",
         "-1.0",
         "1020.0",
         "250.0",
         "2.6"
        ]
       ],
       "shape": {
        "columns": 9,
        "rows": 5
       }
      },
      "text/html": [
       "<div>\n",
       "<style scoped>\n",
       "    .dataframe tbody tr th:only-of-type {\n",
       "        vertical-align: middle;\n",
       "    }\n",
       "\n",
       "    .dataframe tbody tr th {\n",
       "        vertical-align: top;\n",
       "    }\n",
       "\n",
       "    .dataframe thead th {\n",
       "        text-align: right;\n",
       "    }\n",
       "</style>\n",
       "<table border=\"1\" class=\"dataframe\">\n",
       "  <thead>\n",
       "    <tr style=\"text-align: right;\">\n",
       "      <th></th>\n",
       "      <th>site_id</th>\n",
       "      <th>timestamp</th>\n",
       "      <th>air_temperature</th>\n",
       "      <th>cloud_coverage</th>\n",
       "      <th>dew_temperature</th>\n",
       "      <th>precip_depth_1_hr</th>\n",
       "      <th>sea_level_pressure</th>\n",
       "      <th>wind_direction</th>\n",
       "      <th>wind_speed</th>\n",
       "    </tr>\n",
       "  </thead>\n",
       "  <tbody>\n",
       "    <tr>\n",
       "      <th>0</th>\n",
       "      <td>0</td>\n",
       "      <td>2016-01-01 00:00:00</td>\n",
       "      <td>25.0</td>\n",
       "      <td>6.0</td>\n",
       "      <td>20.0</td>\n",
       "      <td>NaN</td>\n",
       "      <td>1019.7</td>\n",
       "      <td>0.0</td>\n",
       "      <td>0.0</td>\n",
       "    </tr>\n",
       "    <tr>\n",
       "      <th>1</th>\n",
       "      <td>0</td>\n",
       "      <td>2016-01-01 01:00:00</td>\n",
       "      <td>24.4</td>\n",
       "      <td>NaN</td>\n",
       "      <td>21.1</td>\n",
       "      <td>-1.0</td>\n",
       "      <td>1020.2</td>\n",
       "      <td>70.0</td>\n",
       "      <td>1.5</td>\n",
       "    </tr>\n",
       "    <tr>\n",
       "      <th>2</th>\n",
       "      <td>0</td>\n",
       "      <td>2016-01-01 02:00:00</td>\n",
       "      <td>22.8</td>\n",
       "      <td>2.0</td>\n",
       "      <td>21.1</td>\n",
       "      <td>0.0</td>\n",
       "      <td>1020.2</td>\n",
       "      <td>0.0</td>\n",
       "      <td>0.0</td>\n",
       "    </tr>\n",
       "    <tr>\n",
       "      <th>3</th>\n",
       "      <td>0</td>\n",
       "      <td>2016-01-01 03:00:00</td>\n",
       "      <td>21.1</td>\n",
       "      <td>2.0</td>\n",
       "      <td>20.6</td>\n",
       "      <td>0.0</td>\n",
       "      <td>1020.1</td>\n",
       "      <td>0.0</td>\n",
       "      <td>0.0</td>\n",
       "    </tr>\n",
       "    <tr>\n",
       "      <th>4</th>\n",
       "      <td>0</td>\n",
       "      <td>2016-01-01 04:00:00</td>\n",
       "      <td>20.0</td>\n",
       "      <td>2.0</td>\n",
       "      <td>20.0</td>\n",
       "      <td>-1.0</td>\n",
       "      <td>1020.0</td>\n",
       "      <td>250.0</td>\n",
       "      <td>2.6</td>\n",
       "    </tr>\n",
       "  </tbody>\n",
       "</table>\n",
       "</div>"
      ],
      "text/plain": [
       "   site_id            timestamp  air_temperature  cloud_coverage  \\\n",
       "0        0  2016-01-01 00:00:00             25.0             6.0   \n",
       "1        0  2016-01-01 01:00:00             24.4             NaN   \n",
       "2        0  2016-01-01 02:00:00             22.8             2.0   \n",
       "3        0  2016-01-01 03:00:00             21.1             2.0   \n",
       "4        0  2016-01-01 04:00:00             20.0             2.0   \n",
       "\n",
       "   dew_temperature  precip_depth_1_hr  sea_level_pressure  wind_direction  \\\n",
       "0             20.0                NaN              1019.7             0.0   \n",
       "1             21.1               -1.0              1020.2            70.0   \n",
       "2             21.1                0.0              1020.2             0.0   \n",
       "3             20.6                0.0              1020.1             0.0   \n",
       "4             20.0               -1.0              1020.0           250.0   \n",
       "\n",
       "   wind_speed  \n",
       "0         0.0  \n",
       "1         1.5  \n",
       "2         0.0  \n",
       "3         0.0  \n",
       "4         2.6  "
      ]
     },
     "execution_count": 7,
     "metadata": {},
     "output_type": "execute_result"
    }
   ],
   "source": [
    "weather_train.head()"
   ]
  },
  {
   "cell_type": "markdown",
   "metadata": {},
   "source": [
    "**Observations**\n",
    "\n",
    "`weather_train.csv` and `weather_test.csv` contain the time series weather observations for different sites. \n",
    "- `site_id` - sites at which the obseravtions are recorded\n",
    "- `air_temperature` - temperature measured in degree celsius. \n",
    "- `cloud_coverage` - portion of the sky covered in clouds\n",
    "- `precip_depth_1hr` - amount of rain, snowfall, hail etc. recorded at the site in mm\n",
    "- `sea_level_pressure` - average atmospheric pressure at mean sea level \n",
    "- `wind_direction` - direction that the wind comes from\n",
    "- `wind_speed` - wind velocity\n",
    "\n"
   ]
  },
  {
   "cell_type": "code",
   "execution_count": 8,
   "metadata": {},
   "outputs": [
    {
     "data": {
      "application/vnd.microsoft.datawrangler.viewer.v0+json": {
       "columns": [
        {
         "name": "index",
         "rawType": "int64",
         "type": "integer"
        },
        {
         "name": "site_id",
         "rawType": "int64",
         "type": "integer"
        },
        {
         "name": "building_id",
         "rawType": "int64",
         "type": "integer"
        },
        {
         "name": "primary_use",
         "rawType": "object",
         "type": "string"
        },
        {
         "name": "square_feet",
         "rawType": "int64",
         "type": "integer"
        },
        {
         "name": "year_built",
         "rawType": "float64",
         "type": "float"
        },
        {
         "name": "floor_count",
         "rawType": "float64",
         "type": "float"
        }
       ],
       "conversionMethod": "pd.DataFrame",
       "ref": "234b28cf-a7ee-4f04-a85d-ba14cfd620ab",
       "rows": [
        [
         "0",
         "0",
         "0",
         "Education",
         "7432",
         "2008.0",
         null
        ],
        [
         "1",
         "0",
         "1",
         "Education",
         "2720",
         "2004.0",
         null
        ],
        [
         "2",
         "0",
         "2",
         "Education",
         "5376",
         "1991.0",
         null
        ],
        [
         "3",
         "0",
         "3",
         "Education",
         "23685",
         "2002.0",
         null
        ],
        [
         "4",
         "0",
         "4",
         "Education",
         "116607",
         "1975.0",
         null
        ]
       ],
       "shape": {
        "columns": 6,
        "rows": 5
       }
      },
      "text/html": [
       "<div>\n",
       "<style scoped>\n",
       "    .dataframe tbody tr th:only-of-type {\n",
       "        vertical-align: middle;\n",
       "    }\n",
       "\n",
       "    .dataframe tbody tr th {\n",
       "        vertical-align: top;\n",
       "    }\n",
       "\n",
       "    .dataframe thead th {\n",
       "        text-align: right;\n",
       "    }\n",
       "</style>\n",
       "<table border=\"1\" class=\"dataframe\">\n",
       "  <thead>\n",
       "    <tr style=\"text-align: right;\">\n",
       "      <th></th>\n",
       "      <th>site_id</th>\n",
       "      <th>building_id</th>\n",
       "      <th>primary_use</th>\n",
       "      <th>square_feet</th>\n",
       "      <th>year_built</th>\n",
       "      <th>floor_count</th>\n",
       "    </tr>\n",
       "  </thead>\n",
       "  <tbody>\n",
       "    <tr>\n",
       "      <th>0</th>\n",
       "      <td>0</td>\n",
       "      <td>0</td>\n",
       "      <td>Education</td>\n",
       "      <td>7432</td>\n",
       "      <td>2008.0</td>\n",
       "      <td>NaN</td>\n",
       "    </tr>\n",
       "    <tr>\n",
       "      <th>1</th>\n",
       "      <td>0</td>\n",
       "      <td>1</td>\n",
       "      <td>Education</td>\n",
       "      <td>2720</td>\n",
       "      <td>2004.0</td>\n",
       "      <td>NaN</td>\n",
       "    </tr>\n",
       "    <tr>\n",
       "      <th>2</th>\n",
       "      <td>0</td>\n",
       "      <td>2</td>\n",
       "      <td>Education</td>\n",
       "      <td>5376</td>\n",
       "      <td>1991.0</td>\n",
       "      <td>NaN</td>\n",
       "    </tr>\n",
       "    <tr>\n",
       "      <th>3</th>\n",
       "      <td>0</td>\n",
       "      <td>3</td>\n",
       "      <td>Education</td>\n",
       "      <td>23685</td>\n",
       "      <td>2002.0</td>\n",
       "      <td>NaN</td>\n",
       "    </tr>\n",
       "    <tr>\n",
       "      <th>4</th>\n",
       "      <td>0</td>\n",
       "      <td>4</td>\n",
       "      <td>Education</td>\n",
       "      <td>116607</td>\n",
       "      <td>1975.0</td>\n",
       "      <td>NaN</td>\n",
       "    </tr>\n",
       "  </tbody>\n",
       "</table>\n",
       "</div>"
      ],
      "text/plain": [
       "   site_id  building_id primary_use  square_feet  year_built  floor_count\n",
       "0        0            0   Education         7432      2008.0          NaN\n",
       "1        0            1   Education         2720      2004.0          NaN\n",
       "2        0            2   Education         5376      1991.0          NaN\n",
       "3        0            3   Education        23685      2002.0          NaN\n",
       "4        0            4   Education       116607      1975.0          NaN"
      ]
     },
     "execution_count": 8,
     "metadata": {},
     "output_type": "execute_result"
    }
   ],
   "source": [
    "building_metadata.head()"
   ]
  },
  {
   "cell_type": "markdown",
   "metadata": {},
   "source": [
    "**Observations**\n",
    "\n",
    "`building_metadata.csv` contains the building attributes for different sites. \n",
    "- `building_id` - foreign key for training data \n",
    "- `site_id` - sites at which the obseravtions are recorded. Foreign key for weather training and test dat \n",
    "- `primary_use` - categorical column indicating the primary usage fo the building  \n",
    "- `square_feet` - gross area of the building\n",
    "- `year_built` - Year in which the building was constructed.\n",
    "- `floor_count` - number of floors in the building\n",
    "\n",
    "---\n",
    "\n",
    "Now, we will merge the building metadata dataset (`building_metadata`) and weather datasets (`weather_train` and `weather_test`) to enrich the available information and improve prediction quality.\n",
    "\n",
    "Since the test dataset lacks the target variable (`meter_reading`), we will focus on the training dataset. We will split it into training and validation subsets to evaluate the model's performance. Afterward, we will use the trained model to make predictions on the test dataset, which will be significantly reduced to avoid memory issues."
   ]
  },
  {
   "cell_type": "code",
   "execution_count": 9,
   "metadata": {},
   "outputs": [],
   "source": [
    "# Merge the data\n",
    "energy_data = energy_data.merge(building_metadata, on='building_id', how='left')\n",
    "energy_data = energy_data.merge(weather_train, on=['site_id', 'timestamp'], how='left')\n",
    "energy_data.head()\n",
    "\n",
    "test = test.merge(building_metadata, on='building_id', how='left')\n",
    "test = test.merge(weather_test, on=['site_id', 'timestamp'], how='left')"
   ]
  },
  {
   "cell_type": "code",
   "execution_count": 10,
   "metadata": {},
   "outputs": [
    {
     "data": {
      "text/plain": [
       "building_id                 0\n",
       "timestamp                   0\n",
       "meter_reading               0\n",
       "site_id                     0\n",
       "primary_use                 0\n",
       "square_feet                 0\n",
       "year_built            6470035\n",
       "floor_count           9096083\n",
       "air_temperature         47325\n",
       "cloud_coverage        5329652\n",
       "dew_temperature         49091\n",
       "precip_depth_1_hr     2513679\n",
       "sea_level_pressure    1018383\n",
       "wind_direction         678715\n",
       "wind_speed              66795\n",
       "dtype: int64"
      ]
     },
     "execution_count": 10,
     "metadata": {},
     "output_type": "execute_result"
    }
   ],
   "source": [
    "# Verificar se há valores nulos\n",
    "energy_data.isnull().sum()\n"
   ]
  },
  {
   "cell_type": "markdown",
   "metadata": {},
   "source": [
    "As previously observed, there is a significant amount of missing values in the `year_built` and `floor_count` columns of the `building_metadata` dataset. Specifically:\n",
    "\n",
    "- **`year_built`**: 6,470,035 missing values.\n",
    "- **`floor_count`**: 9,096,083 missing values.\n",
    "\n",
    "These columns are important for analysis as they provide information about the year of construction and the number of floors in the buildings. However, the absence of data in such a large proportion can negatively impact the model's quality if not handled properly.\n",
    "\n",
    "To address these missing values, we decided to remove the rows corresponding to buildings with missing values in these columns. This approach significantly reduces the dataset size, but we believe the loss of information will not be too detrimental, considering the large volume of data available.\n",
    "\n",
    "After removing buildings with missing data, the dataset size was reduced from **12 million rows** to **2 million rows**. Despite this significant reduction, the resulting dataset is still large enough to train robust machine learning models. Additionally, excluding buildings with missing data ensures that the model is trained with complete and reliable information, which can improve prediction accuracy.\n"
   ]
  },
  {
   "cell_type": "code",
   "execution_count": null,
   "metadata": {},
   "outputs": [
    {
     "name": "stdout",
     "output_type": "stream",
     "text": [
      "Treino: (1957301, 15), Teste: (3994560, 15), Metadata: (231, 6)\n"
     ]
    }
   ],
   "source": [
    "missing_buildings = building_metadata[\n",
    "    building_metadata[[\"year_built\", \"floor_count\"]].isna().any(axis=1)\n",
    "][\"building_id\"].unique()\n",
    "\n",
    "building_metadata = building_metadata[~building_metadata[\"building_id\"].isin(missing_buildings)]\n",
    "\n",
    "energy_data = energy_data[~energy_data[\"building_id\"].isin(missing_buildings)]\n",
    "test = test[~test[\"building_id\"].isin(missing_buildings)]\n",
    "\n",
    "# Verificar novos tamanhos dos datasets\n",
    "print(f\"Treino: {energy_data.shape}, Teste: {test.shape}, Metadata: {building_metadata.shape}\")\n"
   ]
  },
  {
   "cell_type": "code",
   "execution_count": 12,
   "metadata": {},
   "outputs": [
    {
     "data": {
      "text/plain": [
       "building_id                 0\n",
       "timestamp                   0\n",
       "meter_reading               0\n",
       "site_id                     0\n",
       "primary_use                 0\n",
       "square_feet                 0\n",
       "year_built                  0\n",
       "floor_count                 0\n",
       "air_temperature          5558\n",
       "cloud_coverage        1266878\n",
       "dew_temperature          5981\n",
       "precip_depth_1_hr     1323547\n",
       "sea_level_pressure     784114\n",
       "wind_direction          40216\n",
       "wind_speed               5606\n",
       "dtype: int64"
      ]
     },
     "execution_count": 12,
     "metadata": {},
     "output_type": "execute_result"
    }
   ],
   "source": [
    "energy_data.isnull().sum()"
   ]
  },
  {
   "cell_type": "code",
   "execution_count": 13,
   "metadata": {},
   "outputs": [
    {
     "data": {
      "application/vnd.microsoft.datawrangler.viewer.v0+json": {
       "columns": [
        {
         "name": "index",
         "rawType": "int64",
         "type": "integer"
        },
        {
         "name": "building_id",
         "rawType": "int64",
         "type": "integer"
        },
        {
         "name": "timestamp",
         "rawType": "object",
         "type": "string"
        },
        {
         "name": "meter_reading",
         "rawType": "float64",
         "type": "float"
        },
        {
         "name": "site_id",
         "rawType": "int64",
         "type": "integer"
        },
        {
         "name": "primary_use",
         "rawType": "object",
         "type": "string"
        },
        {
         "name": "square_feet",
         "rawType": "int64",
         "type": "integer"
        },
        {
         "name": "year_built",
         "rawType": "float64",
         "type": "float"
        },
        {
         "name": "floor_count",
         "rawType": "float64",
         "type": "float"
        },
        {
         "name": "air_temperature",
         "rawType": "float64",
         "type": "float"
        },
        {
         "name": "cloud_coverage",
         "rawType": "float64",
         "type": "float"
        },
        {
         "name": "dew_temperature",
         "rawType": "float64",
         "type": "float"
        },
        {
         "name": "precip_depth_1_hr",
         "rawType": "float64",
         "type": "float"
        },
        {
         "name": "sea_level_pressure",
         "rawType": "float64",
         "type": "float"
        },
        {
         "name": "wind_direction",
         "rawType": "float64",
         "type": "float"
        },
        {
         "name": "wind_speed",
         "rawType": "float64",
         "type": "float"
        }
       ],
       "conversionMethod": "pd.DataFrame",
       "ref": "87ce3751-59b2-4e94-af26-6231fee94210",
       "rows": [
        [
         "105",
         "107",
         "2016-01-01 00:00:00",
         "175.18400000000003",
         "1",
         "Education",
         "97532",
         "2005.0",
         "10.0",
         "3.8",
         null,
         "2.4",
         null,
         "1020.9",
         "240.0",
         "3.1"
        ],
        [
         "106",
         "108",
         "2016-01-01 00:00:00",
         "91.2653",
         "1",
         "Education",
         "81580",
         "1913.0",
         "5.0",
         "3.8",
         null,
         "2.4",
         null,
         "1020.9",
         "240.0",
         "3.1"
        ],
        [
         "107",
         "109",
         "2016-01-01 00:00:00",
         "80.93",
         "1",
         "Education",
         "56995",
         "1953.0",
         "6.0",
         "3.8",
         null,
         "2.4",
         null,
         "1020.9",
         "240.0",
         "3.1"
        ],
        [
         "108",
         "110",
         "2016-01-01 00:00:00",
         "86.2283",
         "1",
         "Education",
         "27814",
         "2006.0",
         "8.0",
         "3.8",
         null,
         "2.4",
         null,
         "1020.9",
         "240.0",
         "3.1"
        ],
        [
         "109",
         "111",
         "2016-01-01 00:00:00",
         "167.392",
         "1",
         "Education",
         "118338",
         "1909.0",
         "7.0",
         "3.8",
         null,
         "2.4",
         null,
         "1020.9",
         "240.0",
         "3.1"
        ]
       ],
       "shape": {
        "columns": 15,
        "rows": 5
       }
      },
      "text/html": [
       "<div>\n",
       "<style scoped>\n",
       "    .dataframe tbody tr th:only-of-type {\n",
       "        vertical-align: middle;\n",
       "    }\n",
       "\n",
       "    .dataframe tbody tr th {\n",
       "        vertical-align: top;\n",
       "    }\n",
       "\n",
       "    .dataframe thead th {\n",
       "        text-align: right;\n",
       "    }\n",
       "</style>\n",
       "<table border=\"1\" class=\"dataframe\">\n",
       "  <thead>\n",
       "    <tr style=\"text-align: right;\">\n",
       "      <th></th>\n",
       "      <th>building_id</th>\n",
       "      <th>timestamp</th>\n",
       "      <th>meter_reading</th>\n",
       "      <th>site_id</th>\n",
       "      <th>primary_use</th>\n",
       "      <th>square_feet</th>\n",
       "      <th>year_built</th>\n",
       "      <th>floor_count</th>\n",
       "      <th>air_temperature</th>\n",
       "      <th>cloud_coverage</th>\n",
       "      <th>dew_temperature</th>\n",
       "      <th>precip_depth_1_hr</th>\n",
       "      <th>sea_level_pressure</th>\n",
       "      <th>wind_direction</th>\n",
       "      <th>wind_speed</th>\n",
       "    </tr>\n",
       "  </thead>\n",
       "  <tbody>\n",
       "    <tr>\n",
       "      <th>105</th>\n",
       "      <td>107</td>\n",
       "      <td>2016-01-01 00:00:00</td>\n",
       "      <td>175.1840</td>\n",
       "      <td>1</td>\n",
       "      <td>Education</td>\n",
       "      <td>97532</td>\n",
       "      <td>2005.0</td>\n",
       "      <td>10.0</td>\n",
       "      <td>3.8</td>\n",
       "      <td>NaN</td>\n",
       "      <td>2.4</td>\n",
       "      <td>NaN</td>\n",
       "      <td>1020.9</td>\n",
       "      <td>240.0</td>\n",
       "      <td>3.1</td>\n",
       "    </tr>\n",
       "    <tr>\n",
       "      <th>106</th>\n",
       "      <td>108</td>\n",
       "      <td>2016-01-01 00:00:00</td>\n",
       "      <td>91.2653</td>\n",
       "      <td>1</td>\n",
       "      <td>Education</td>\n",
       "      <td>81580</td>\n",
       "      <td>1913.0</td>\n",
       "      <td>5.0</td>\n",
       "      <td>3.8</td>\n",
       "      <td>NaN</td>\n",
       "      <td>2.4</td>\n",
       "      <td>NaN</td>\n",
       "      <td>1020.9</td>\n",
       "      <td>240.0</td>\n",
       "      <td>3.1</td>\n",
       "    </tr>\n",
       "    <tr>\n",
       "      <th>107</th>\n",
       "      <td>109</td>\n",
       "      <td>2016-01-01 00:00:00</td>\n",
       "      <td>80.9300</td>\n",
       "      <td>1</td>\n",
       "      <td>Education</td>\n",
       "      <td>56995</td>\n",
       "      <td>1953.0</td>\n",
       "      <td>6.0</td>\n",
       "      <td>3.8</td>\n",
       "      <td>NaN</td>\n",
       "      <td>2.4</td>\n",
       "      <td>NaN</td>\n",
       "      <td>1020.9</td>\n",
       "      <td>240.0</td>\n",
       "      <td>3.1</td>\n",
       "    </tr>\n",
       "    <tr>\n",
       "      <th>108</th>\n",
       "      <td>110</td>\n",
       "      <td>2016-01-01 00:00:00</td>\n",
       "      <td>86.2283</td>\n",
       "      <td>1</td>\n",
       "      <td>Education</td>\n",
       "      <td>27814</td>\n",
       "      <td>2006.0</td>\n",
       "      <td>8.0</td>\n",
       "      <td>3.8</td>\n",
       "      <td>NaN</td>\n",
       "      <td>2.4</td>\n",
       "      <td>NaN</td>\n",
       "      <td>1020.9</td>\n",
       "      <td>240.0</td>\n",
       "      <td>3.1</td>\n",
       "    </tr>\n",
       "    <tr>\n",
       "      <th>109</th>\n",
       "      <td>111</td>\n",
       "      <td>2016-01-01 00:00:00</td>\n",
       "      <td>167.3920</td>\n",
       "      <td>1</td>\n",
       "      <td>Education</td>\n",
       "      <td>118338</td>\n",
       "      <td>1909.0</td>\n",
       "      <td>7.0</td>\n",
       "      <td>3.8</td>\n",
       "      <td>NaN</td>\n",
       "      <td>2.4</td>\n",
       "      <td>NaN</td>\n",
       "      <td>1020.9</td>\n",
       "      <td>240.0</td>\n",
       "      <td>3.1</td>\n",
       "    </tr>\n",
       "  </tbody>\n",
       "</table>\n",
       "</div>"
      ],
      "text/plain": [
       "     building_id            timestamp  meter_reading  site_id primary_use  \\\n",
       "105          107  2016-01-01 00:00:00       175.1840        1   Education   \n",
       "106          108  2016-01-01 00:00:00        91.2653        1   Education   \n",
       "107          109  2016-01-01 00:00:00        80.9300        1   Education   \n",
       "108          110  2016-01-01 00:00:00        86.2283        1   Education   \n",
       "109          111  2016-01-01 00:00:00       167.3920        1   Education   \n",
       "\n",
       "     square_feet  year_built  floor_count  air_temperature  cloud_coverage  \\\n",
       "105        97532      2005.0         10.0              3.8             NaN   \n",
       "106        81580      1913.0          5.0              3.8             NaN   \n",
       "107        56995      1953.0          6.0              3.8             NaN   \n",
       "108        27814      2006.0          8.0              3.8             NaN   \n",
       "109       118338      1909.0          7.0              3.8             NaN   \n",
       "\n",
       "     dew_temperature  precip_depth_1_hr  sea_level_pressure  wind_direction  \\\n",
       "105              2.4                NaN              1020.9           240.0   \n",
       "106              2.4                NaN              1020.9           240.0   \n",
       "107              2.4                NaN              1020.9           240.0   \n",
       "108              2.4                NaN              1020.9           240.0   \n",
       "109              2.4                NaN              1020.9           240.0   \n",
       "\n",
       "     wind_speed  \n",
       "105         3.1  \n",
       "106         3.1  \n",
       "107         3.1  \n",
       "108         3.1  \n",
       "109         3.1  "
      ]
     },
     "execution_count": 13,
     "metadata": {},
     "output_type": "execute_result"
    }
   ],
   "source": [
    "energy_data.head()"
   ]
  },
  {
   "cell_type": "code",
   "execution_count": 14,
   "metadata": {},
   "outputs": [
    {
     "data": {
      "image/png": "[encoded data removed]",
      "text/plain": [
       "<Figure size 1200x1000 with 2 Axes>"
      ]
     },
     "metadata": {},
     "output_type": "display_data"
    }
   ],
   "source": [
    "energy_data2 = energy_data.drop(columns=['timestamp', 'primary_use', 'site_id', 'building_id'])\n",
    "corr = energy_data2.corr()\n",
    "plt.figure(figsize=(12, 10))\n",
    "sns.heatmap(corr, annot=True, cmap='coolwarm')\n",
    "plt.show()\n",
    "\n"
   ]
  },
  {
   "cell_type": "markdown",
   "metadata": {},
   "source": [
    "| **Variable**            | **Meaning**                                      | **Relevance to Energy Consumption?** |\n",
    "|-------------------------|--------------------------------------------------|---------------------------------------|\n",
    "| `air_temperature`       | Air temperature at the location                  | High (affects heating/cooling)        | \n",
    "| `dew_temperature`       | Dew point temperature (humidity)                 | Moderate (related to humidity)        | \n",
    "| `cloud_coverage`        | Cloud coverage (0-10)                            | Low (affects solar illumination, but may have poor data) | \n",
    "| `precip_depth_1_hr`     | Precipitation amount (rain/snow) per hour         | Low (minimal impact on energy consumption) | \n",
    "| `sea_level_pressure`    | Atmospheric pressure at sea level                | Very low (almost irrelevant)          | \n",
    "| `wind_direction`        | Wind direction in degrees                        | Very low (minimal direct impact)      | \n",
    "| `wind_speed`            | Wind speed in m/s                                | Low (may affect natural ventilation)  | \n",
    "\n",
    "\n",
    "---\n",
    "\n",
    "According to the correlation matrix, the following variables have such low correlation that they can be removed from the model:\n",
    "\n",
    "- `wind_direction`\n",
    "- `sea_level_pressure`\n",
    "- `wind_speed`\n",
    "\n",
    "The other variables do not have a correlation with the target variable `meter_reading` that is low enough to warrant removal at this stage. Therefore, no additional variables will be removed for now.\n",
    "\n"
   ]
  },
  {
   "cell_type": "code",
   "execution_count": 15,
   "metadata": {},
   "outputs": [
    {
     "data": {
      "application/vnd.microsoft.datawrangler.viewer.v0+json": {
       "columns": [
        {
         "name": "index",
         "rawType": "int64",
         "type": "integer"
        },
        {
         "name": "building_id",
         "rawType": "int64",
         "type": "integer"
        },
        {
         "name": "timestamp",
         "rawType": "object",
         "type": "string"
        },
        {
         "name": "meter_reading",
         "rawType": "float64",
         "type": "float"
        },
        {
         "name": "site_id",
         "rawType": "int64",
         "type": "integer"
        },
        {
         "name": "primary_use",
         "rawType": "object",
         "type": "string"
        },
        {
         "name": "square_feet",
         "rawType": "int64",
         "type": "integer"
        },
        {
         "name": "year_built",
         "rawType": "float64",
         "type": "float"
        },
        {
         "name": "floor_count",
         "rawType": "float64",
         "type": "float"
        },
        {
         "name": "air_temperature",
         "rawType": "float64",
         "type": "float"
        },
        {
         "name": "cloud_coverage",
         "rawType": "float64",
         "type": "float"
        },
        {
         "name": "dew_temperature",
         "rawType": "float64",
         "type": "float"
        },
        {
         "name": "precip_depth_1_hr",
         "rawType": "float64",
         "type": "float"
        }
       ],
       "conversionMethod": "pd.DataFrame",
       "ref": "abc26060-e483-4f8a-b98b-8e60d4327d7c",
       "rows": [
        [
         "105",
         "107",
         "2016-01-01 00:00:00",
         "175.18400000000003",
         "1",
         "Education",
         "97532",
         "2005.0",
         "10.0",
         "3.8",
         null,
         "2.4",
         null
        ],
        [
         "106",
         "108",
         "2016-01-01 00:00:00",
         "91.2653",
         "1",
         "Education",
         "81580",
         "1913.0",
         "5.0",
         "3.8",
         null,
         "2.4",
         null
        ],
        [
         "107",
         "109",
         "2016-01-01 00:00:00",
         "80.93",
         "1",
         "Education",
         "56995",
         "1953.0",
         "6.0",
         "3.8",
         null,
         "2.4",
         null
        ],
        [
         "108",
         "110",
         "2016-01-01 00:00:00",
         "86.2283",
         "1",
         "Education",
         "27814",
         "2006.0",
         "8.0",
         "3.8",
         null,
         "2.4",
         null
        ],
        [
         "109",
         "111",
         "2016-01-01 00:00:00",
         "167.392",
         "1",
         "Education",
         "118338",
         "1909.0",
         "7.0",
         "3.8",
         null,
         "2.4",
         null
        ]
       ],
       "shape": {
        "columns": 12,
        "rows": 5
       }
      },
      "text/html": [
       "<div>\n",
       "<style scoped>\n",
       "    .dataframe tbody tr th:only-of-type {\n",
       "        vertical-align: middle;\n",
       "    }\n",
       "\n",
       "    .dataframe tbody tr th {\n",
       "        vertical-align: top;\n",
       "    }\n",
       "\n",
       "    .dataframe thead th {\n",
       "        text-align: right;\n",
       "    }\n",
       "</style>\n",
       "<table border=\"1\" class=\"dataframe\">\n",
       "  <thead>\n",
       "    <tr style=\"text-align: right;\">\n",
       "      <th></th>\n",
       "      <th>building_id</th>\n",
       "      <th>timestamp</th>\n",
       "      <th>meter_reading</th>\n",
       "      <th>site_id</th>\n",
       "      <th>primary_use</th>\n",
       "      <th>square_feet</th>\n",
       "      <th>year_built</th>\n",
       "      <th>floor_count</th>\n",
       "      <th>air_temperature</th>\n",
       "      <th>cloud_coverage</th>\n",
       "      <th>dew_temperature</th>\n",
       "      <th>precip_depth_1_hr</th>\n",
       "    </tr>\n",
       "  </thead>\n",
       "  <tbody>\n",
       "    <tr>\n",
       "      <th>105</th>\n",
       "      <td>107</td>\n",
       "      <td>2016-01-01 00:00:00</td>\n",
       "      <td>175.1840</td>\n",
       "      <td>1</td>\n",
       "      <td>Education</td>\n",
       "      <td>97532</td>\n",
       "      <td>2005.0</td>\n",
       "      <td>10.0</td>\n",
       "      <td>3.8</td>\n",
       "      <td>NaN</td>\n",
       "      <td>2.4</td>\n",
       "      <td>NaN</td>\n",
       "    </tr>\n",
       "    <tr>\n",
       "      <th>106</th>\n",
       "      <td>108</td>\n",
       "      <td>2016-01-01 00:00:00</td>\n",
       "      <td>91.2653</td>\n",
       "      <td>1</td>\n",
       "      <td>Education</td>\n",
       "      <td>81580</td>\n",
       "      <td>1913.0</td>\n",
       "      <td>5.0</td>\n",
       "      <td>3.8</td>\n",
       "      <td>NaN</td>\n",
       "      <td>2.4</td>\n",
       "      <td>NaN</td>\n",
       "    </tr>\n",
       "    <tr>\n",
       "      <th>107</th>\n",
       "      <td>109</td>\n",
       "      <td>2016-01-01 00:00:00</td>\n",
       "      <td>80.9300</td>\n",
       "      <td>1</td>\n",
       "      <td>Education</td>\n",
       "      <td>56995</td>\n",
       "      <td>1953.0</td>\n",
       "      <td>6.0</td>\n",
       "      <td>3.8</td>\n",
       "      <td>NaN</td>\n",
       "      <td>2.4</td>\n",
       "      <td>NaN</td>\n",
       "    </tr>\n",
       "    <tr>\n",
       "      <th>108</th>\n",
       "      <td>110</td>\n",
       "      <td>2016-01-01 00:00:00</td>\n",
       "      <td>86.2283</td>\n",
       "      <td>1</td>\n",
       "      <td>Education</td>\n",
       "      <td>27814</td>\n",
       "      <td>2006.0</td>\n",
       "      <td>8.0</td>\n",
       "      <td>3.8</td>\n",
       "      <td>NaN</td>\n",
       "      <td>2.4</td>\n",
       "      <td>NaN</td>\n",
       "    </tr>\n",
       "    <tr>\n",
       "      <th>109</th>\n",
       "      <td>111</td>\n",
       "      <td>2016-01-01 00:00:00</td>\n",
       "      <td>167.3920</td>\n",
       "      <td>1</td>\n",
       "      <td>Education</td>\n",
       "      <td>118338</td>\n",
       "      <td>1909.0</td>\n",
       "      <td>7.0</td>\n",
       "      <td>3.8</td>\n",
       "      <td>NaN</td>\n",
       "      <td>2.4</td>\n",
       "      <td>NaN</td>\n",
       "    </tr>\n",
       "  </tbody>\n",
       "</table>\n",
       "</div>"
      ],
      "text/plain": [
       "     building_id            timestamp  meter_reading  site_id primary_use  \\\n",
       "105          107  2016-01-01 00:00:00       175.1840        1   Education   \n",
       "106          108  2016-01-01 00:00:00        91.2653        1   Education   \n",
       "107          109  2016-01-01 00:00:00        80.9300        1   Education   \n",
       "108          110  2016-01-01 00:00:00        86.2283        1   Education   \n",
       "109          111  2016-01-01 00:00:00       167.3920        1   Education   \n",
       "\n",
       "     square_feet  year_built  floor_count  air_temperature  cloud_coverage  \\\n",
       "105        97532      2005.0         10.0              3.8             NaN   \n",
       "106        81580      1913.0          5.0              3.8             NaN   \n",
       "107        56995      1953.0          6.0              3.8             NaN   \n",
       "108        27814      2006.0          8.0              3.8             NaN   \n",
       "109       118338      1909.0          7.0              3.8             NaN   \n",
       "\n",
       "     dew_temperature  precip_depth_1_hr  \n",
       "105              2.4                NaN  \n",
       "106              2.4                NaN  \n",
       "107              2.4                NaN  \n",
       "108              2.4                NaN  \n",
       "109              2.4                NaN  "
      ]
     },
     "execution_count": 15,
     "metadata": {},
     "output_type": "execute_result"
    }
   ],
   "source": [
    "# vamos remover as colunas anteriormente faladas\n",
    "\n",
    "energy_data = energy_data.drop(columns=['wind_direction', 'wind_speed', 'sea_level_pressure'])\n",
    "test = test.drop(columns=['wind_direction', 'wind_speed', 'sea_level_pressure'])\n",
    "\n",
    "energy_data.head()"
   ]
  },
  {
   "cell_type": "code",
   "execution_count": 16,
   "metadata": {},
   "outputs": [
    {
     "data": {
      "text/plain": [
       "building_id                0\n",
       "timestamp                  0\n",
       "meter_reading              0\n",
       "site_id                    0\n",
       "primary_use                0\n",
       "square_feet                0\n",
       "year_built                 0\n",
       "floor_count                0\n",
       "air_temperature         5558\n",
       "cloud_coverage       1266878\n",
       "dew_temperature         5981\n",
       "precip_depth_1_hr    1323547\n",
       "dtype: int64"
      ]
     },
     "execution_count": 16,
     "metadata": {},
     "output_type": "execute_result"
    }
   ],
   "source": [
    "# ver se há valores nulos\n",
    "energy_data.isnull().sum()"
   ]
  },
  {
   "cell_type": "code",
   "execution_count": null,
   "metadata": {},
   "outputs": [
    {
     "name": "stderr",
     "output_type": "stream",
     "text": [
      "/opt/anaconda3/envs/meu_env/lib/python3.10/site-packages/numpy/lib/_nanfunctions_impl.py:1231: RuntimeWarning: Mean of empty slice\n",
      "  return np.nanmean(a, axis, out=out, keepdims=keepdims)\n",
      "/opt/anaconda3/envs/meu_env/lib/python3.10/site-packages/numpy/lib/_nanfunctions_impl.py:1231: RuntimeWarning: Mean of empty slice\n",
      "  return np.nanmean(a, axis, out=out, keepdims=keepdims)\n",
      "/opt/anaconda3/envs/meu_env/lib/python3.10/site-packages/numpy/lib/_nanfunctions_impl.py:1231: RuntimeWarning: Mean of empty slice\n",
      "  return np.nanmean(a, axis, out=out, keepdims=keepdims)\n",
      "/opt/anaconda3/envs/meu_env/lib/python3.10/site-packages/numpy/lib/_nanfunctions_impl.py:1231: RuntimeWarning: Mean of empty slice\n",
      "  return np.nanmean(a, axis, out=out, keepdims=keepdims)\n",
      "/opt/anaconda3/envs/meu_env/lib/python3.10/site-packages/numpy/lib/_nanfunctions_impl.py:1231: RuntimeWarning: Mean of empty slice\n",
      "  return np.nanmean(a, axis, out=out, keepdims=keepdims)\n",
      "/opt/anaconda3/envs/meu_env/lib/python3.10/site-packages/numpy/lib/_nanfunctions_impl.py:1231: RuntimeWarning: Mean of empty slice\n",
      "  return np.nanmean(a, axis, out=out, keepdims=keepdims)\n"
     ]
    },
    {
     "name": "stdout",
     "output_type": "stream",
     "text": [
      "air_temperature            0\n",
      "cloud_coverage         96000\n",
      "dew_temperature            0\n",
      "precip_depth_1_hr    1124350\n",
      "dtype: int64\n",
      "air_temperature            0\n",
      "cloud_coverage        192720\n",
      "dew_temperature            0\n",
      "precip_depth_1_hr    2242560\n",
      "dtype: int64\n"
     ]
    }
   ],
   "source": [
    "weather_cols = [\"air_temperature\", \"cloud_coverage\", \"dew_temperature\", \"precip_depth_1_hr\"]\n",
    "\n",
    "# Preencher valores ausentes com a mediana do próprio site_id\n",
    "for col in weather_cols:\n",
    "    energy_data[col] = energy_data.groupby(\"site_id\")[col].transform(lambda x: x.fillna(x.median()))\n",
    "    test[col] = test.groupby(\"site_id\")[col].transform(lambda x: x.fillna(x.median()))\n"
   ]
  },
  {
   "cell_type": "code",
   "execution_count": 20,
   "metadata": {},
   "outputs": [
    {
     "data": {
      "text/plain": [
       "row_id               0\n",
       "building_id          0\n",
       "timestamp            0\n",
       "site_id              0\n",
       "primary_use          0\n",
       "square_feet          0\n",
       "year_built           0\n",
       "floor_count          0\n",
       "air_temperature      0\n",
       "cloud_coverage       0\n",
       "dew_temperature      0\n",
       "precip_depth_1_hr    0\n",
       "dtype: int64"
      ]
     },
     "execution_count": 20,
     "metadata": {},
     "output_type": "execute_result"
    }
   ],
   "source": [
    "weather_cols = [\"cloud_coverage\", \"precip_depth_1_hr\"]\n",
    "# mediana\n",
    "for col in weather_cols:\n",
    "    energy_data[col] = energy_data[col].fillna(energy_data[col].median())\n",
    "    test[col] = test[col].fillna(test[col].median())\n",
    "\n",
    "energy_data.isnull().sum()\n",
    "test.isnull().sum()\n"
   ]
  },
  {
   "cell_type": "markdown",
   "metadata": {},
   "source": [
    "First, we filled the missing values in the following columns:\n",
    "`weather_cols = [\"air_temperature\", \"cloud_coverage\", \"dew_temperature\", \"precip_depth_1_hr\"]`\n",
    "using the median grouped by `site_id`.\n",
    "\n",
    "Since not all missing values can be filled using the median grouped by `site_id`, we filled the remaining missing values with the global median."
   ]
  },
  {
   "cell_type": "code",
   "execution_count": 21,
   "metadata": {},
   "outputs": [
    {
     "data": {
      "text/plain": [
       "np.int64(0)"
      ]
     },
     "execution_count": 21,
     "metadata": {},
     "output_type": "execute_result"
    }
   ],
   "source": [
    "# Verificar se há valores duplicados\n",
    "energy_data.duplicated().sum()"
   ]
  },
  {
   "cell_type": "code",
   "execution_count": 22,
   "metadata": {},
   "outputs": [
    {
     "data": {
      "application/vnd.microsoft.datawrangler.viewer.v0+json": {
       "columns": [
        {
         "name": "index",
         "rawType": "int64",
         "type": "integer"
        },
        {
         "name": "building_id",
         "rawType": "int64",
         "type": "integer"
        },
        {
         "name": "timestamp",
         "rawType": "object",
         "type": "string"
        },
        {
         "name": "meter_reading",
         "rawType": "float64",
         "type": "float"
        },
        {
         "name": "site_id",
         "rawType": "int64",
         "type": "integer"
        },
        {
         "name": "primary_use",
         "rawType": "object",
         "type": "string"
        },
        {
         "name": "square_feet",
         "rawType": "int64",
         "type": "integer"
        },
        {
         "name": "year_built",
         "rawType": "float64",
         "type": "float"
        },
        {
         "name": "floor_count",
         "rawType": "float64",
         "type": "float"
        },
        {
         "name": "air_temperature",
         "rawType": "float64",
         "type": "float"
        },
        {
         "name": "cloud_coverage",
         "rawType": "float64",
         "type": "float"
        },
        {
         "name": "dew_temperature",
         "rawType": "float64",
         "type": "float"
        },
        {
         "name": "precip_depth_1_hr",
         "rawType": "float64",
         "type": "float"
        }
       ],
       "conversionMethod": "pd.DataFrame",
       "ref": "06e20565-eceb-4f26-a315-dec5997cd673",
       "rows": [
        [
         "105",
         "107",
         "2016-01-01 00:00:00",
         "175.18400000000003",
         "1",
         "Education",
         "97532",
         "2005.0",
         "10.0",
         "3.8",
         "0.0",
         "2.4",
         "0.0"
        ],
        [
         "106",
         "108",
         "2016-01-01 00:00:00",
         "91.2653",
         "1",
         "Education",
         "81580",
         "1913.0",
         "5.0",
         "3.8",
         "0.0",
         "2.4",
         "0.0"
        ],
        [
         "107",
         "109",
         "2016-01-01 00:00:00",
         "80.93",
         "1",
         "Education",
         "56995",
         "1953.0",
         "6.0",
         "3.8",
         "0.0",
         "2.4",
         "0.0"
        ],
        [
         "108",
         "110",
         "2016-01-01 00:00:00",
         "86.2283",
         "1",
         "Education",
         "27814",
         "2006.0",
         "8.0",
         "3.8",
         "0.0",
         "2.4",
         "0.0"
        ],
        [
         "109",
         "111",
         "2016-01-01 00:00:00",
         "167.392",
         "1",
         "Education",
         "118338",
         "1909.0",
         "7.0",
         "3.8",
         "0.0",
         "2.4",
         "0.0"
        ]
       ],
       "shape": {
        "columns": 12,
        "rows": 5
       }
      },
      "text/html": [
       "<div>\n",
       "<style scoped>\n",
       "    .dataframe tbody tr th:only-of-type {\n",
       "        vertical-align: middle;\n",
       "    }\n",
       "\n",
       "    .dataframe tbody tr th {\n",
       "        vertical-align: top;\n",
       "    }\n",
       "\n",
       "    .dataframe thead th {\n",
       "        text-align: right;\n",
       "    }\n",
       "</style>\n",
       "<table border=\"1\" class=\"dataframe\">\n",
       "  <thead>\n",
       "    <tr style=\"text-align: right;\">\n",
       "      <th></th>\n",
       "      <th>building_id</th>\n",
       "      <th>timestamp</th>\n",
       "      <th>meter_reading</th>\n",
       "      <th>site_id</th>\n",
       "      <th>primary_use</th>\n",
       "      <th>square_feet</th>\n",
       "      <th>year_built</th>\n",
       "      <th>floor_count</th>\n",
       "      <th>air_temperature</th>\n",
       "      <th>cloud_coverage</th>\n",
       "      <th>dew_temperature</th>\n",
       "      <th>precip_depth_1_hr</th>\n",
       "    </tr>\n",
       "  </thead>\n",
       "  <tbody>\n",
       "    <tr>\n",
       "      <th>105</th>\n",
       "      <td>107</td>\n",
       "      <td>2016-01-01 00:00:00</td>\n",
       "      <td>175.1840</td>\n",
       "      <td>1</td>\n",
       "      <td>Education</td>\n",
       "      <td>97532</td>\n",
       "      <td>2005.0</td>\n",
       "      <td>10.0</td>\n",
       "      <td>3.8</td>\n",
       "      <td>0.0</td>\n",
       "      <td>2.4</td>\n",
       "      <td>0.0</td>\n",
       "    </tr>\n",
       "    <tr>\n",
       "      <th>106</th>\n",
       "      <td>108</td>\n",
       "      <td>2016-01-01 00:00:00</td>\n",
       "      <td>91.2653</td>\n",
       "      <td>1</td>\n",
       "      <td>Education</td>\n",
       "      <td>81580</td>\n",
       "      <td>1913.0</td>\n",
       "      <td>5.0</td>\n",
       "      <td>3.8</td>\n",
       "      <td>0.0</td>\n",
       "      <td>2.4</td>\n",
       "      <td>0.0</td>\n",
       "    </tr>\n",
       "    <tr>\n",
       "      <th>107</th>\n",
       "      <td>109</td>\n",
       "      <td>2016-01-01 00:00:00</td>\n",
       "      <td>80.9300</td>\n",
       "      <td>1</td>\n",
       "      <td>Education</td>\n",
       "      <td>56995</td>\n",
       "      <td>1953.0</td>\n",
       "      <td>6.0</td>\n",
       "      <td>3.8</td>\n",
       "      <td>0.0</td>\n",
       "      <td>2.4</td>\n",
       "      <td>0.0</td>\n",
       "    </tr>\n",
       "    <tr>\n",
       "      <th>108</th>\n",
       "      <td>110</td>\n",
       "      <td>2016-01-01 00:00:00</td>\n",
       "      <td>86.2283</td>\n",
       "      <td>1</td>\n",
       "      <td>Education</td>\n",
       "      <td>27814</td>\n",
       "      <td>2006.0</td>\n",
       "      <td>8.0</td>\n",
       "      <td>3.8</td>\n",
       "      <td>0.0</td>\n",
       "      <td>2.4</td>\n",
       "      <td>0.0</td>\n",
       "    </tr>\n",
       "    <tr>\n",
       "      <th>109</th>\n",
       "      <td>111</td>\n",
       "      <td>2016-01-01 00:00:00</td>\n",
       "      <td>167.3920</td>\n",
       "      <td>1</td>\n",
       "      <td>Education</td>\n",
       "      <td>118338</td>\n",
       "      <td>1909.0</td>\n",
       "      <td>7.0</td>\n",
       "      <td>3.8</td>\n",
       "      <td>0.0</td>\n",
       "      <td>2.4</td>\n",
       "      <td>0.0</td>\n",
       "    </tr>\n",
       "  </tbody>\n",
       "</table>\n",
       "</div>"
      ],
      "text/plain": [
       "     building_id            timestamp  meter_reading  site_id primary_use  \\\n",
       "105          107  2016-01-01 00:00:00       175.1840        1   Education   \n",
       "106          108  2016-01-01 00:00:00        91.2653        1   Education   \n",
       "107          109  2016-01-01 00:00:00        80.9300        1   Education   \n",
       "108          110  2016-01-01 00:00:00        86.2283        1   Education   \n",
       "109          111  2016-01-01 00:00:00       167.3920        1   Education   \n",
       "\n",
       "     square_feet  year_built  floor_count  air_temperature  cloud_coverage  \\\n",
       "105        97532      2005.0         10.0              3.8             0.0   \n",
       "106        81580      1913.0          5.0              3.8             0.0   \n",
       "107        56995      1953.0          6.0              3.8             0.0   \n",
       "108        27814      2006.0          8.0              3.8             0.0   \n",
       "109       118338      1909.0          7.0              3.8             0.0   \n",
       "\n",
       "     dew_temperature  precip_depth_1_hr  \n",
       "105              2.4                0.0  \n",
       "106              2.4                0.0  \n",
       "107              2.4                0.0  \n",
       "108              2.4                0.0  \n",
       "109              2.4                0.0  "
      ]
     },
     "execution_count": 22,
     "metadata": {},
     "output_type": "execute_result"
    }
   ],
   "source": [
    "# Resumo final\n",
    "energy_data.head()"
   ]
  },
  {
   "cell_type": "code",
   "execution_count": 23,
   "metadata": {},
   "outputs": [
    {
     "name": "stdout",
     "output_type": "stream",
     "text": [
      "<class 'pandas.core.frame.DataFrame'>\n",
      "Index: 1957301 entries, 105 to 12060294\n",
      "Data columns (total 12 columns):\n",
      " #   Column             Dtype  \n",
      "---  ------             -----  \n",
      " 0   building_id        int64  \n",
      " 1   timestamp          object \n",
      " 2   meter_reading      float64\n",
      " 3   site_id            int64  \n",
      " 4   primary_use        object \n",
      " 5   square_feet        int64  \n",
      " 6   year_built         float64\n",
      " 7   floor_count        float64\n",
      " 8   air_temperature    float64\n",
      " 9   cloud_coverage     float64\n",
      " 10  dew_temperature    float64\n",
      " 11  precip_depth_1_hr  float64\n",
      "dtypes: float64(7), int64(3), object(2)\n",
      "memory usage: 194.1+ MB\n"
     ]
    }
   ],
   "source": [
    "energy_data.info()"
   ]
  },
  {
   "cell_type": "code",
   "execution_count": 24,
   "metadata": {},
   "outputs": [
    {
     "data": {
      "application/vnd.microsoft.datawrangler.viewer.v0+json": {
       "columns": [
        {
         "name": "index",
         "rawType": "object",
         "type": "string"
        },
        {
         "name": "building_id",
         "rawType": "float64",
         "type": "float"
        },
        {
         "name": "meter_reading",
         "rawType": "float64",
         "type": "float"
        },
        {
         "name": "site_id",
         "rawType": "float64",
         "type": "float"
        },
        {
         "name": "square_feet",
         "rawType": "float64",
         "type": "float"
        },
        {
         "name": "year_built",
         "rawType": "float64",
         "type": "float"
        },
        {
         "name": "floor_count",
         "rawType": "float64",
         "type": "float"
        },
        {
         "name": "air_temperature",
         "rawType": "float64",
         "type": "float"
        },
        {
         "name": "cloud_coverage",
         "rawType": "float64",
         "type": "float"
        },
        {
         "name": "dew_temperature",
         "rawType": "float64",
         "type": "float"
        },
        {
         "name": "precip_depth_1_hr",
         "rawType": "float64",
         "type": "float"
        }
       ],
       "conversionMethod": "pd.DataFrame",
       "ref": "12b40d4b-dd3a-4bfb-8afe-dc65a343c777",
       "rows": [
        [
         "count",
         "1957301.0",
         "1957301.0",
         "1957301.0",
         "1957301.0",
         "1957301.0",
         "1957301.0",
         "1957301.0",
         "1957301.0",
         "1957301.0",
         "1957301.0"
        ],
        [
         "mean",
         "568.7846795153122",
         "220.16775606628724",
         "4.003534458930946",
         "86520.91553675188",
         "1959.1858176131316",
         "4.770461467091674",
         "12.513909357835105",
         "0.7647311272001598",
         "8.428959112573896",
         "0.3519519992070714"
        ],
        [
         "std",
         "212.4043668378056",
         "667.3284200722175",
         "1.5658683769330262",
         "106719.38267922188",
         "27.973837951595737",
         "3.6100439092290317",
         "5.9394238339884495",
         "1.2352340592083273",
         "5.2891563517765725",
         "2.6436327489988716"
        ],
        [
         "min",
         "107.0",
         "0.0",
         "1.0",
         "387.0",
         "1900.0",
         "1.0",
         "-28.8",
         "0.0",
         "-35.0",
         "-1.0"
        ],
        [
         "25%",
         "581.0",
         "8.5046",
         "4.0",
         "21866.0",
         "1933.0",
         "2.0",
         "8.6",
         "0.0",
         "5.0",
         "0.0"
        ],
        [
         "50%",
         "641.0",
         "41.05",
         "4.0",
         "53234.0",
         "1966.0",
         "4.0",
         "13.3",
         "0.0",
         "9.4",
         "0.0"
        ],
        [
         "75%",
         "700.0",
         "149.925",
         "5.0",
         "117814.0",
         "1976.0",
         "7.0",
         "16.4",
         "2.0",
         "12.2",
         "0.0"
        ],
        [
         "max",
         "803.0",
         "17502.1",
         "7.0",
         "764237.0",
         "2016.0",
         "26.0",
         "35.0",
         "9.0",
         "22.9",
         "262.0"
        ]
       ],
       "shape": {
        "columns": 10,
        "rows": 8
       }
      },
      "text/html": [
       "<div>\n",
       "<style scoped>\n",
       "    .dataframe tbody tr th:only-of-type {\n",
       "        vertical-align: middle;\n",
       "    }\n",
       "\n",
       "    .dataframe tbody tr th {\n",
       "        vertical-align: top;\n",
       "    }\n",
       "\n",
       "    .dataframe thead th {\n",
       "        text-align: right;\n",
       "    }\n",
       "</style>\n",
       "<table border=\"1\" class=\"dataframe\">\n",
       "  <thead>\n",
       "    <tr style=\"text-align: right;\">\n",
       "      <th></th>\n",
       "      <th>building_id</th>\n",
       "      <th>meter_reading</th>\n",
       "      <th>site_id</th>\n",
       "      <th>square_feet</th>\n",
       "      <th>year_built</th>\n",
       "      <th>floor_count</th>\n",
       "      <th>air_temperature</th>\n",
       "      <th>cloud_coverage</th>\n",
       "      <th>dew_temperature</th>\n",
       "      <th>precip_depth_1_hr</th>\n",
       "    </tr>\n",
       "  </thead>\n",
       "  <tbody>\n",
       "    <tr>\n",
       "      <th>count</th>\n",
       "      <td>1.957301e+06</td>\n",
       "      <td>1.957301e+06</td>\n",
       "      <td>1.957301e+06</td>\n",
       "      <td>1.957301e+06</td>\n",
       "      <td>1.957301e+06</td>\n",
       "      <td>1.957301e+06</td>\n",
       "      <td>1.957301e+06</td>\n",
       "      <td>1.957301e+06</td>\n",
       "      <td>1.957301e+06</td>\n",
       "      <td>1.957301e+06</td>\n",
       "    </tr>\n",
       "    <tr>\n",
       "      <th>mean</th>\n",
       "      <td>5.687847e+02</td>\n",
       "      <td>2.201678e+02</td>\n",
       "      <td>4.003534e+00</td>\n",
       "      <td>8.652092e+04</td>\n",
       "      <td>1.959186e+03</td>\n",
       "      <td>4.770461e+00</td>\n",
       "      <td>1.251391e+01</td>\n",
       "      <td>7.647311e-01</td>\n",
       "      <td>8.428959e+00</td>\n",
       "      <td>3.519520e-01</td>\n",
       "    </tr>\n",
       "    <tr>\n",
       "      <th>std</th>\n",
       "      <td>2.124044e+02</td>\n",
       "      <td>6.673284e+02</td>\n",
       "      <td>1.565868e+00</td>\n",
       "      <td>1.067194e+05</td>\n",
       "      <td>2.797384e+01</td>\n",
       "      <td>3.610044e+00</td>\n",
       "      <td>5.939424e+00</td>\n",
       "      <td>1.235234e+00</td>\n",
       "      <td>5.289156e+00</td>\n",
       "      <td>2.643633e+00</td>\n",
       "    </tr>\n",
       "    <tr>\n",
       "      <th>min</th>\n",
       "      <td>1.070000e+02</td>\n",
       "      <td>0.000000e+00</td>\n",
       "      <td>1.000000e+00</td>\n",
       "      <td>3.870000e+02</td>\n",
       "      <td>1.900000e+03</td>\n",
       "      <td>1.000000e+00</td>\n",
       "      <td>-2.880000e+01</td>\n",
       "      <td>0.000000e+00</td>\n",
       "      <td>-3.500000e+01</td>\n",
       "      <td>-1.000000e+00</td>\n",
       "    </tr>\n",
       "    <tr>\n",
       "      <th>25%</th>\n",
       "      <td>5.810000e+02</td>\n",
       "      <td>8.504600e+00</td>\n",
       "      <td>4.000000e+00</td>\n",
       "      <td>2.186600e+04</td>\n",
       "      <td>1.933000e+03</td>\n",
       "      <td>2.000000e+00</td>\n",
       "      <td>8.600000e+00</td>\n",
       "      <td>0.000000e+00</td>\n",
       "      <td>5.000000e+00</td>\n",
       "      <td>0.000000e+00</td>\n",
       "    </tr>\n",
       "    <tr>\n",
       "      <th>50%</th>\n",
       "      <td>6.410000e+02</td>\n",
       "      <td>4.105000e+01</td>\n",
       "      <td>4.000000e+00</td>\n",
       "      <td>5.323400e+04</td>\n",
       "      <td>1.966000e+03</td>\n",
       "      <td>4.000000e+00</td>\n",
       "      <td>1.330000e+01</td>\n",
       "      <td>0.000000e+00</td>\n",
       "      <td>9.400000e+00</td>\n",
       "      <td>0.000000e+00</td>\n",
       "    </tr>\n",
       "    <tr>\n",
       "      <th>75%</th>\n",
       "      <td>7.000000e+02</td>\n",
       "      <td>1.499250e+02</td>\n",
       "      <td>5.000000e+00</td>\n",
       "      <td>1.178140e+05</td>\n",
       "      <td>1.976000e+03</td>\n",
       "      <td>7.000000e+00</td>\n",
       "      <td>1.640000e+01</td>\n",
       "      <td>2.000000e+00</td>\n",
       "      <td>1.220000e+01</td>\n",
       "      <td>0.000000e+00</td>\n",
       "    </tr>\n",
       "    <tr>\n",
       "      <th>max</th>\n",
       "      <td>8.030000e+02</td>\n",
       "      <td>1.750210e+04</td>\n",
       "      <td>7.000000e+00</td>\n",
       "      <td>7.642370e+05</td>\n",
       "      <td>2.016000e+03</td>\n",
       "      <td>2.600000e+01</td>\n",
       "      <td>3.500000e+01</td>\n",
       "      <td>9.000000e+00</td>\n",
       "      <td>2.290000e+01</td>\n",
       "      <td>2.620000e+02</td>\n",
       "    </tr>\n",
       "  </tbody>\n",
       "</table>\n",
       "</div>"
      ],
      "text/plain": [
       "        building_id  meter_reading       site_id   square_feet    year_built  \\\n",
       "count  1.957301e+06   1.957301e+06  1.957301e+06  1.957301e+06  1.957301e+06   \n",
       "mean   5.687847e+02   2.201678e+02  4.003534e+00  8.652092e+04  1.959186e+03   \n",
       "std    2.124044e+02   6.673284e+02  1.565868e+00  1.067194e+05  2.797384e+01   \n",
       "min    1.070000e+02   0.000000e+00  1.000000e+00  3.870000e+02  1.900000e+03   \n",
       "25%    5.810000e+02   8.504600e+00  4.000000e+00  2.186600e+04  1.933000e+03   \n",
       "50%    6.410000e+02   4.105000e+01  4.000000e+00  5.323400e+04  1.966000e+03   \n",
       "75%    7.000000e+02   1.499250e+02  5.000000e+00  1.178140e+05  1.976000e+03   \n",
       "max    8.030000e+02   1.750210e+04  7.000000e+00  7.642370e+05  2.016000e+03   \n",
       "\n",
       "        floor_count  air_temperature  cloud_coverage  dew_temperature  \\\n",
       "count  1.957301e+06     1.957301e+06    1.957301e+06     1.957301e+06   \n",
       "mean   4.770461e+00     1.251391e+01    7.647311e-01     8.428959e+00   \n",
       "std    3.610044e+00     5.939424e+00    1.235234e+00     5.289156e+00   \n",
       "min    1.000000e+00    -2.880000e+01    0.000000e+00    -3.500000e+01   \n",
       "25%    2.000000e+00     8.600000e+00    0.000000e+00     5.000000e+00   \n",
       "50%    4.000000e+00     1.330000e+01    0.000000e+00     9.400000e+00   \n",
       "75%    7.000000e+00     1.640000e+01    2.000000e+00     1.220000e+01   \n",
       "max    2.600000e+01     3.500000e+01    9.000000e+00     2.290000e+01   \n",
       "\n",
       "       precip_depth_1_hr  \n",
       "count       1.957301e+06  \n",
       "mean        3.519520e-01  \n",
       "std         2.643633e+00  \n",
       "min        -1.000000e+00  \n",
       "25%         0.000000e+00  \n",
       "50%         0.000000e+00  \n",
       "75%         0.000000e+00  \n",
       "max         2.620000e+02  "
      ]
     },
     "execution_count": 24,
     "metadata": {},
     "output_type": "execute_result"
    }
   ],
   "source": [
    "energy_data.describe()"
   ]
  },
  {
   "cell_type": "code",
   "execution_count": 25,
   "metadata": {},
   "outputs": [
    {
     "data": {
      "application/vnd.microsoft.datawrangler.viewer.v0+json": {
       "columns": [
        {
         "name": "index",
         "rawType": "int64",
         "type": "integer"
        },
        {
         "name": "building_id",
         "rawType": "int64",
         "type": "integer"
        },
        {
         "name": "timestamp",
         "rawType": "object",
         "type": "string"
        },
        {
         "name": "site_id",
         "rawType": "int64",
         "type": "integer"
        },
        {
         "name": "primary_use",
         "rawType": "object",
         "type": "string"
        },
        {
         "name": "square_feet",
         "rawType": "int64",
         "type": "integer"
        },
        {
         "name": "year_built",
         "rawType": "float64",
         "type": "float"
        },
        {
         "name": "floor_count",
         "rawType": "float64",
         "type": "float"
        },
        {
         "name": "air_temperature",
         "rawType": "float64",
         "type": "float"
        },
        {
         "name": "cloud_coverage",
         "rawType": "float64",
         "type": "float"
        },
        {
         "name": "dew_temperature",
         "rawType": "float64",
         "type": "float"
        },
        {
         "name": "precip_depth_1_hr",
         "rawType": "float64",
         "type": "float"
        },
        {
         "name": "target",
         "rawType": "float64",
         "type": "float"
        }
       ],
       "conversionMethod": "pd.DataFrame",
       "ref": "c175fa86-5966-4ccb-b682-8cd97fd28f29",
       "rows": [
        [
         "105",
         "107",
         "2016-01-01 00:00:00",
         "1",
         "Education",
         "97532",
         "2005.0",
         "10.0",
         "3.8",
         "0.0",
         "2.4",
         "0.0",
         "175.18400000000003"
        ],
        [
         "106",
         "108",
         "2016-01-01 00:00:00",
         "1",
         "Education",
         "81580",
         "1913.0",
         "5.0",
         "3.8",
         "0.0",
         "2.4",
         "0.0",
         "91.2653"
        ],
        [
         "107",
         "109",
         "2016-01-01 00:00:00",
         "1",
         "Education",
         "56995",
         "1953.0",
         "6.0",
         "3.8",
         "0.0",
         "2.4",
         "0.0",
         "80.93"
        ],
        [
         "108",
         "110",
         "2016-01-01 00:00:00",
         "1",
         "Education",
         "27814",
         "2006.0",
         "8.0",
         "3.8",
         "0.0",
         "2.4",
         "0.0",
         "86.2283"
        ],
        [
         "109",
         "111",
         "2016-01-01 00:00:00",
         "1",
         "Education",
         "118338",
         "1909.0",
         "7.0",
         "3.8",
         "0.0",
         "2.4",
         "0.0",
         "167.392"
        ]
       ],
       "shape": {
        "columns": 12,
        "rows": 5
       }
      },
      "text/html": [
       "<div>\n",
       "<style scoped>\n",
       "    .dataframe tbody tr th:only-of-type {\n",
       "        vertical-align: middle;\n",
       "    }\n",
       "\n",
       "    .dataframe tbody tr th {\n",
       "        vertical-align: top;\n",
       "    }\n",
       "\n",
       "    .dataframe thead th {\n",
       "        text-align: right;\n",
       "    }\n",
       "</style>\n",
       "<table border=\"1\" class=\"dataframe\">\n",
       "  <thead>\n",
       "    <tr style=\"text-align: right;\">\n",
       "      <th></th>\n",
       "      <th>building_id</th>\n",
       "      <th>timestamp</th>\n",
       "      <th>site_id</th>\n",
       "      <th>primary_use</th>\n",
       "      <th>square_feet</th>\n",
       "      <th>year_built</th>\n",
       "      <th>floor_count</th>\n",
       "      <th>air_temperature</th>\n",
       "      <th>cloud_coverage</th>\n",
       "      <th>dew_temperature</th>\n",
       "      <th>precip_depth_1_hr</th>\n",
       "      <th>target</th>\n",
       "    </tr>\n",
       "  </thead>\n",
       "  <tbody>\n",
       "    <tr>\n",
       "      <th>105</th>\n",
       "      <td>107</td>\n",
       "      <td>2016-01-01 00:00:00</td>\n",
       "      <td>1</td>\n",
       "      <td>Education</td>\n",
       "      <td>97532</td>\n",
       "      <td>2005.0</td>\n",
       "      <td>10.0</td>\n",
       "      <td>3.8</td>\n",
       "      <td>0.0</td>\n",
       "      <td>2.4</td>\n",
       "      <td>0.0</td>\n",
       "      <td>175.1840</td>\n",
       "    </tr>\n",
       "    <tr>\n",
       "      <th>106</th>\n",
       "      <td>108</td>\n",
       "      <td>2016-01-01 00:00:00</td>\n",
       "      <td>1</td>\n",
       "      <td>Education</td>\n",
       "      <td>81580</td>\n",
       "      <td>1913.0</td>\n",
       "      <td>5.0</td>\n",
       "      <td>3.8</td>\n",
       "      <td>0.0</td>\n",
       "      <td>2.4</td>\n",
       "      <td>0.0</td>\n",
       "      <td>91.2653</td>\n",
       "    </tr>\n",
       "    <tr>\n",
       "      <th>107</th>\n",
       "      <td>109</td>\n",
       "      <td>2016-01-01 00:00:00</td>\n",
       "      <td>1</td>\n",
       "      <td>Education</td>\n",
       "      <td>56995</td>\n",
       "      <td>1953.0</td>\n",
       "      <td>6.0</td>\n",
       "      <td>3.8</td>\n",
       "      <td>0.0</td>\n",
       "      <td>2.4</td>\n",
       "      <td>0.0</td>\n",
       "      <td>80.9300</td>\n",
       "    </tr>\n",
       "    <tr>\n",
       "      <th>108</th>\n",
       "      <td>110</td>\n",
       "      <td>2016-01-01 00:00:00</td>\n",
       "      <td>1</td>\n",
       "      <td>Education</td>\n",
       "      <td>27814</td>\n",
       "      <td>2006.0</td>\n",
       "      <td>8.0</td>\n",
       "      <td>3.8</td>\n",
       "      <td>0.0</td>\n",
       "      <td>2.4</td>\n",
       "      <td>0.0</td>\n",
       "      <td>86.2283</td>\n",
       "    </tr>\n",
       "    <tr>\n",
       "      <th>109</th>\n",
       "      <td>111</td>\n",
       "      <td>2016-01-01 00:00:00</td>\n",
       "      <td>1</td>\n",
       "      <td>Education</td>\n",
       "      <td>118338</td>\n",
       "      <td>1909.0</td>\n",
       "      <td>7.0</td>\n",
       "      <td>3.8</td>\n",
       "      <td>0.0</td>\n",
       "      <td>2.4</td>\n",
       "      <td>0.0</td>\n",
       "      <td>167.3920</td>\n",
       "    </tr>\n",
       "  </tbody>\n",
       "</table>\n",
       "</div>"
      ],
      "text/plain": [
       "     building_id            timestamp  site_id primary_use  square_feet  \\\n",
       "105          107  2016-01-01 00:00:00        1   Education        97532   \n",
       "106          108  2016-01-01 00:00:00        1   Education        81580   \n",
       "107          109  2016-01-01 00:00:00        1   Education        56995   \n",
       "108          110  2016-01-01 00:00:00        1   Education        27814   \n",
       "109          111  2016-01-01 00:00:00        1   Education       118338   \n",
       "\n",
       "     year_built  floor_count  air_temperature  cloud_coverage  \\\n",
       "105      2005.0         10.0              3.8             0.0   \n",
       "106      1913.0          5.0              3.8             0.0   \n",
       "107      1953.0          6.0              3.8             0.0   \n",
       "108      2006.0          8.0              3.8             0.0   \n",
       "109      1909.0          7.0              3.8             0.0   \n",
       "\n",
       "     dew_temperature  precip_depth_1_hr    target  \n",
       "105              2.4                0.0  175.1840  \n",
       "106              2.4                0.0   91.2653  \n",
       "107              2.4                0.0   80.9300  \n",
       "108              2.4                0.0   86.2283  \n",
       "109              2.4                0.0  167.3920  "
      ]
     },
     "execution_count": 25,
     "metadata": {},
     "output_type": "execute_result"
    }
   ],
   "source": [
    "# Alterar o nome para target e colocar no final\n",
    "energy_data = energy_data.rename(columns={'meter_reading': 'target'})\n",
    "cols = energy_data.columns.tolist()\n",
    "cols.remove('target')\n",
    "cols.append('target')\n",
    "energy_data = energy_data[cols]\n",
    "\n",
    "energy_data.head()\n"
   ]
  },
  {
   "cell_type": "code",
   "execution_count": null,
   "metadata": {},
   "outputs": [
    {
     "name": "stdout",
     "output_type": "stream",
     "text": [
      "(1957301, 12) (3994560, 12)\n"
     ]
    }
   ],
   "source": [
    "# shape\n",
    "print(energy_data.shape, test.shape)\n",
    "\n",
    "# salvar os dados\n",
    "energy_data.to_csv('data/energy_data.csv', index=False)\n",
    "# test.to_csv('data/test.csv', index=False) # Caso um dia queira usar o test"
   ]
  },
  {
   "cell_type": "markdown",
   "metadata": {},
   "source": [
    "### Summary of the Process and Conclusions\n",
    "\n",
    "#### 1. **Data Loading and Preprocessing**\n",
    "- Data was loaded from multiple CSV files, including `train.csv`, `test.csv`, `weather_train.csv`, `weather_test.csv`, and `building_metadata.csv`.\n",
    "- Tables were merged using keys such as `building_id`, `site_id`, and `timestamp` to enrich the data with metadata and weather conditions.\n",
    "\n",
    "#### 2. **Data Filtering**\n",
    "- Focused only on electricity consumption (`meter = 0`), significantly reducing the size of the training and testing datasets.\n",
    "- Removed columns with low relevance to energy consumption, such as `wind_direction`, `wind_speed`, and `sea_level_pressure`, based on correlation analysis.\n",
    "\n",
    "#### 3. **Handling Missing Values**\n",
    "- Filled missing values in weather variables (`air_temperature`, `cloud_coverage`, `dew_temperature`, `precip_depth_1_hr`) using the median grouped by `site_id`.\n",
    "- Remaining missing values were filled with the global median to ensure no null values remained.\n",
    "\n",
    "#### 4. **Removal of Incomplete Data**\n",
    "- Identified that the `year_built` and `floor_count` columns had a large number of missing values. Decided to remove buildings with missing data in these columns.\n",
    "- This decision reduced the training dataset size from **12 million** to **2 million** rows, ensuring higher data reliability.\n",
    "\n",
    "#### 5. **Correlation Analysis**\n",
    "- Generated a correlation matrix to identify variables with low relationships to energy consumption (`meter_reading`).\n",
    "- Variables like `air_temperature` and `square_feet` showed high relevance, while others, such as `wind_direction`, were discarded.\n",
    "\n",
    "#### 6. **Reorganization and Saving**\n",
    "- Renamed the `meter_reading` column to `target` and moved it to the end of the dataset.\n",
    "- Saved the processed datasets (`energy_data` and `test`) as CSV files for future use.\n"
   ]
  }
 ],
 "metadata": {
  "kernelspec": {
   "display_name": "meu_env",
   "language": "python",
   "name": "python3"
  },
  "language_info": {
   "codemirror_mode": {
    "name": "ipython",
    "version": 3
   },
   "file_extension": ".py",
   "mimetype": "text/x-python",
   "name": "python",
   "nbconvert_exporter": "python",
   "pygments_lexer": "ipython3",
   "version": "3.10.16"
  }
 },
 "nbformat": 4,
 "nbformat_minor": 2
}
